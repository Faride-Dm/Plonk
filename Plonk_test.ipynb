{
 "cells": [
  {
   "cell_type": "code",
   "execution_count": null,
   "metadata": {},
   "outputs": [],
   "source": [
    "import plonk\n",
    "import matplotlib.pyplot as plt\n",
    "import numpy as np"
   ]
  },
  {
   "cell_type": "code",
   "execution_count": null,
   "metadata": {},
   "outputs": [],
   "source": [
    "plonk.__version__"
   ]
  },
  {
   "cell_type": "markdown",
   "metadata": {},
   "source": [
    "## Snapshots"
   ]
  },
  {
   "cell_type": "code",
   "execution_count": null,
   "metadata": {},
   "outputs": [],
   "source": [
    "filename = 'disc_00030.h5'\n",
    "snap = plonk.load_snap(filename)"
   ]
  },
  {
   "cell_type": "code",
   "execution_count": null,
   "metadata": {},
   "outputs": [],
   "source": [
    "snap['position']"
   ]
  },
  {
   "cell_type": "code",
   "execution_count": null,
   "metadata": {},
   "outputs": [],
   "source": [
    "snap.loaded_arrays()"
   ]
  },
  {
   "cell_type": "code",
   "execution_count": null,
   "metadata": {},
   "outputs": [],
   "source": [
    "snap.available_arrays()"
   ]
  },
  {
   "cell_type": "code",
   "execution_count": null,
   "metadata": {},
   "outputs": [],
   "source": [
    "# You can also define your own alias to access arrays. For example, \n",
    "# if you prefer to use the name ‘coordinate’ rather than ‘position’, use the add_alias() method to add an alias.\n",
    "\n",
    "snap.add_alias(name='position', alias='coordinate')\n",
    "snap['coordinate']"
   ]
  },
  {
   "cell_type": "code",
   "execution_count": null,
   "metadata": {},
   "outputs": [],
   "source": [
    "# The Snap object has a properties attribute which is a dictionary of metadata, i.e. non-array data, on the \n",
    "# snapshot.\n",
    "\n",
    "\n",
    "snap.properties['time']"
   ]
  },
  {
   "cell_type": "code",
   "execution_count": null,
   "metadata": {},
   "outputs": [],
   "source": [
    "# Units are available. We make use of the Python units library Pint. \n",
    "# The code units of the data are available as code_units.\n",
    "\n",
    "snap.code_units['length']"
   ]
  },
  {
   "cell_type": "code",
   "execution_count": null,
   "metadata": {},
   "outputs": [],
   "source": [
    "# You can set default units as follows.\n",
    "\n",
    "snap.set_units(position='au', density='g/cm^3', velocity='km/s')"
   ]
  },
  {
   "cell_type": "code",
   "execution_count": null,
   "metadata": {},
   "outputs": [],
   "source": [
    "snap['position']"
   ]
  },
  {
   "cell_type": "code",
   "execution_count": null,
   "metadata": {},
   "outputs": [],
   "source": [
    "# Sink particles are handled separately from the fluid, e.g. gas or dust, particles. \n",
    "# They are available as an attribute sinks.\n",
    "\n",
    "list(snap.properties)"
   ]
  },
  {
   "cell_type": "code",
   "execution_count": null,
   "metadata": {},
   "outputs": [],
   "source": [
    "snap.sinks"
   ]
  },
  {
   "cell_type": "code",
   "execution_count": null,
   "metadata": {},
   "outputs": [],
   "source": [
    "snap.sinks['spin']"
   ]
  },
  {
   "cell_type": "markdown",
   "metadata": {},
   "source": [
    "# Simulation"
   ]
  },
  {
   "cell_type": "code",
   "execution_count": null,
   "metadata": {},
   "outputs": [],
   "source": [
    "prefix = 'disc'\n",
    "sim = plonk.load_simulation(prefix=prefix, directory='/home/faride/plonk_example_data/')"
   ]
  },
  {
   "cell_type": "code",
   "execution_count": null,
   "metadata": {},
   "outputs": [],
   "source": [
    "sim.snaps[:5]"
   ]
  },
  {
   "cell_type": "code",
   "execution_count": null,
   "metadata": {},
   "outputs": [],
   "source": [
    "#SPH simulation data also include auxiliary files containing globally-averaged quantities output more frequently than \n",
    "#snapshot files. For example, Phantom writes text files with the suffix .ev. \n",
    "#These files are output every time step rather than at the frequency of the snapshot files.\n",
    "#The Plonk Evolution class encapsulates this data. Use load_ev() to instantiate.\n",
    "\n",
    "ev = plonk.load_time_series('/home/faride/plonk_example_data/disc01.ev')"
   ]
  },
  {
   "cell_type": "code",
   "execution_count": null,
   "metadata": {},
   "outputs": [],
   "source": [
    "# if the simulation was run with multiple jobs on a computation cluster:\n",
    "# In that case, pass in a tuple or list of files in chronological order to load_ev(), \n",
    "# and Plonk will concatenate the data removing any duplicated time steps.\n",
    "# The underlying data is stored as a pandas DataFrame\n",
    "\n",
    "ev.columns"
   ]
  },
  {
   "cell_type": "code",
   "execution_count": null,
   "metadata": {},
   "outputs": [],
   "source": [
    "# You can plot columns with the pandas plotting interface.\n",
    "\n",
    "ev.plot('time', ['density_max', 'center_of_mass_x', 'center_of_mass_z'])"
   ]
  },
  {
   "cell_type": "code",
   "execution_count": null,
   "metadata": {},
   "outputs": [],
   "source": [
    "# SPH simulation datasets often include auxiliary files containing globally-averaged time series data output more\n",
    "# frequently than snapshot files. For example, Phantom writes text files with the file extension “.ev”. \n",
    "# These files are output every time step rather than at the frequency of the snapshot files.\n",
    "\n",
    "ts = plonk.load_time_series('disc01.ev')"
   ]
  },
  {
   "cell_type": "code",
   "execution_count": null,
   "metadata": {},
   "outputs": [],
   "source": [
    "ts"
   ]
  },
  {
   "cell_type": "code",
   "execution_count": null,
   "metadata": {},
   "outputs": [],
   "source": [
    "# You can plot columns with the pandas plotting interface.\n",
    "\n",
    "ts.plot('time', ['center_of_mass_x', 'center_of_mass_y', 'center_of_mass_z'])\n",
    "# The accretion disc center of mass as a function of time."
   ]
  },
  {
   "cell_type": "code",
   "execution_count": null,
   "metadata": {},
   "outputs": [],
   "source": [
    "# Visualization of SPH data"
   ]
  },
  {
   "cell_type": "code",
   "execution_count": null,
   "metadata": {},
   "outputs": [],
   "source": [
    "# SPH particle data is not gridded like the data produced by, for example, finite difference or finite volume \n",
    "# hydrodynamical codes. One visualization method is to plot the particles as a scatter plot, and possibly color \n",
    "# the particles with the magnitude of a quantity of interest. An alternative is to interpolate any quantity on \n",
    "# the particles to a pixel grid with weighted kernel density estimation. This is what Splash does. \n",
    "# For the technical details, see Price (2007), PASA, 24, 3, 159. We use the same numerical method as Splash, \n",
    "# with the Python function compiled with Numba so it has the same performance as the Fortran code.\n",
    "\n",
    "snap.image(quantity='density')"
   ]
  },
  {
   "cell_type": "code",
   "execution_count": null,
   "metadata": {},
   "outputs": [],
   "source": [
    "# Alternatively, you can pass keyword arguments to the matplotlib functions.\n",
    "\n",
    "snap.set_units(position='au', density='g/cm^3', projection='cm')\n",
    "snap.image(\n",
    "    quantity='density',\n",
    "    extent=(20, 120, -50, 50),\n",
    "    cmap='gist_heat',\n",
    "    vmin=0.1,\n",
    "    vmax=0.2,\n",
    ")    \n",
    "\n",
    "# The column density zoomed around the planet."
   ]
  },
  {
   "cell_type": "code",
   "execution_count": null,
   "metadata": {},
   "outputs": [],
   "source": [
    "# SPH particle data is not gridded like the data produced by, for example, finite difference or finite volume \n",
    "# hydrodynamical codes. One visualization method is to plot the particles as a scatter plot\n",
    "\n",
    "#ax = plt.axes\n",
    "#viz = plonk.visualize.plots(snap=snap, x='time', y='density_max', ax=ax)\n",
    "extent = [-200, 200, -200, 200] * plonk.units('au')\n",
    "ax = snap.image(quantity='density', extent=extent)\n",
    "# we can use the Matplotlib image.AxesImage object to set the limits of the colorbar."
   ]
  },
  {
   "cell_type": "code",
   "execution_count": null,
   "metadata": {},
   "outputs": [],
   "source": [
    "# dir(module) returns the names of the attributes of the module\n",
    "\n",
    "dir(plonk.visualize)"
   ]
  },
  {
   "cell_type": "code",
   "execution_count": null,
   "metadata": {},
   "outputs": [],
   "source": [
    "# Analysis of SPH data"
   ]
  },
  {
   "cell_type": "code",
   "execution_count": null,
   "metadata": {},
   "outputs": [],
   "source": [
    "# Analysis of SPH data\n",
    "# If we want to visualize the subset of particles separately, for example dust and gas\n",
    "\n",
    "gas = snap.family('gas')\n",
    "dust = snap.family('dust', squeeze=True)"
   ]
  },
  {
   "cell_type": "code",
   "execution_count": null,
   "metadata": {},
   "outputs": [],
   "source": [
    "# You can access arrays on the SubSnap objects as for any Snap object.\n",
    "\n",
    "gas['mass'].sum().to('solar_mass')\n"
   ]
  },
  {
   "cell_type": "code",
   "execution_count": null,
   "metadata": {},
   "outputs": [],
   "source": [
    "dust['mass'].sum().to('earth_mass')"
   ]
  },
  {
   "cell_type": "code",
   "execution_count": null,
   "metadata": {},
   "outputs": [],
   "source": [
    "# to plot the gas and dust side-by-side\n",
    "\n",
    "subsnaps = [gas, dust]\n",
    "extent = (-200, 200, -200, 200)\n",
    "\n",
    "fig, axs = plt.subplots(ncols=2, figsize=(14, 5))\n",
    "\n",
    "for subsnap, ax in zip(subsnaps, axs):\n",
    "    subsnap.image(quantity='density', extent=extent, cmap='gist_heat', ax=ax)\n",
    "    \n",
    "# the column density of gas and dust    "
   ]
  },
  {
   "cell_type": "markdown",
   "metadata": {},
   "source": [
    "# derived arrays"
   ]
  },
  {
   "cell_type": "code",
   "execution_count": null,
   "metadata": {},
   "outputs": [],
   "source": [
    "# Sometimes you need new arrays on the particles that are not available in the snapshot files\n",
    "\n",
    "list(snap._file_pointer['particles'])"
   ]
  },
  {
   "cell_type": "code",
   "execution_count": null,
   "metadata": {},
   "outputs": [],
   "source": [
    "# To see all available arrays on the Snap object:\n",
    "​\n",
    "snap.available_arrays()"
   ]
  },
  {
   "cell_type": "code",
   "execution_count": null,
   "metadata": {},
   "outputs": [],
   "source": [
    "# You can add quantities appropriate for discs with the add_quantities()\n",
    "\n",
    "previous_arrays = snap.available_arrays()\n",
    "snap.add_quantities('disc')"
   ]
  },
  {
   "cell_type": "code",
   "execution_count": null,
   "metadata": {},
   "outputs": [],
   "source": [
    "set(snap.available_arrays()) - set(previous_arrays)"
   ]
  },
  {
   "cell_type": "code",
   "execution_count": null,
   "metadata": {},
   "outputs": [],
   "source": [
    "# if you want to create a new, derived array on the particles as follows.\n",
    "\n",
    "snap['rad'] = np.sqrt(snap['x'] ** 2 + snap['y'] ** 2)\n",
    "snap['rad']"
   ]
  },
  {
   "cell_type": "code",
   "execution_count": null,
   "metadata": {},
   "outputs": [],
   "source": [
    "# Alternatively, you can define a function for a derived array. This makes use of the decorator add_array()."
   ]
  },
  {
   "cell_type": "code",
   "execution_count": null,
   "metadata": {},
   "outputs": [],
   "source": [
    "# Show an image of the surface density in xy-plane.\n",
    "\n",
    "plonk.image(snap=snap, quantity='density')"
   ]
  },
  {
   "cell_type": "code",
   "execution_count": null,
   "metadata": {},
   "outputs": [],
   "source": [
    "snap.image(quantity='density')"
   ]
  },
  {
   "cell_type": "code",
   "execution_count": null,
   "metadata": {},
   "outputs": [],
   "source": [
    "# Set units for the plot.\n",
    "\n",
    "units = {'position': 'au', 'density': 'g/cm^3', 'projection': 'cm'}\n",
    "snap.image(quantity='density', units=units)"
   ]
  },
  {
   "cell_type": "code",
   "execution_count": null,
   "metadata": {},
   "outputs": [],
   "source": [
    "# Show a slice image of the density in xy-plane at z=0.\n",
    "\n",
    "snap.image(quantity='density', interp='slice')"
   ]
  },
  {
   "cell_type": "code",
   "execution_count": null,
   "metadata": {},
   "outputs": [],
   "source": [
    "# plonk.plot\n",
    "# Show the particles in xy-plane\n",
    "\n",
    "plonk.plot(snap=snap)"
   ]
  },
  {
   "cell_type": "code",
   "execution_count": null,
   "metadata": {},
   "outputs": [],
   "source": [
    "# Alternatively, access the function as a method on the Snap object.\n",
    "\n",
    "snap.plot()"
   ]
  },
  {
   "cell_type": "code",
   "execution_count": null,
   "metadata": {},
   "outputs": [],
   "source": [
    "# Plot density against x.\n",
    "\n",
    "snap.plot(x='x', y='density')"
   ]
  },
  {
   "cell_type": "code",
   "execution_count": null,
   "metadata": {},
   "outputs": [],
   "source": [
    "# Color particles by density.\n",
    "\n",
    "snap.plot(x='x', y='y', c='density')"
   ]
  },
  {
   "cell_type": "code",
   "execution_count": null,
   "metadata": {},
   "outputs": [],
   "source": [
    "# Set units for the plot\n",
    "\n",
    "units = {'position': 'au', 'density': 'g/cm^3'}\n",
    "snap.plot(x='x', y='y', c='density', units=units)"
   ]
  },
  {
   "cell_type": "code",
   "execution_count": null,
   "metadata": {},
   "outputs": [],
   "source": [
    "# plonk.vector\n",
    "\n",
    "plonk.vector(snap=snap, quantity='velocity')"
   ]
  },
  {
   "cell_type": "code",
   "execution_count": null,
   "metadata": {},
   "outputs": [],
   "source": [
    "# Alternatively\n",
    "\n",
    "snap.vector(quantity='velocity')"
   ]
  },
  {
   "cell_type": "code",
   "execution_count": null,
   "metadata": {},
   "outputs": [],
   "source": [
    "# Set units for the plot\n",
    "\n",
    "units = {'position': 'au', 'velocity': 'km/s', 'projection': 'km'}\n",
    "snap.vector(quantity='velocity', units=units)"
   ]
  },
  {
   "cell_type": "code",
   "execution_count": null,
   "metadata": {},
   "outputs": [],
   "source": [
    "# Show a slice plot of the velocity in xy-plane at z=0.\n",
    "\n",
    "snap.vector(quantity='velocity', interp='slice')"
   ]
  },
  {
   "cell_type": "code",
   "execution_count": null,
   "metadata": {},
   "outputs": [],
   "source": [
    "dir(plonk.visualize_sim)"
   ]
  },
  {
   "cell_type": "code",
   "execution_count": null,
   "metadata": {},
   "outputs": [],
   "source": [
    "# Alternatively\n",
    "\n",
    "sim.visualize(kind='image', quantity='density')"
   ]
  },
  {
   "cell_type": "markdown",
   "metadata": {},
   "source": [
    "# Units"
   ]
  },
  {
   "cell_type": "code",
   "execution_count": null,
   "metadata": {},
   "outputs": [],
   "source": [
    "# Plonk uses Pint to set arrays to physical units.\n",
    "\n",
    "snap = plonk.load_snap(filename)\n",
    "snap['x']"
   ]
  },
  {
   "cell_type": "code",
   "execution_count": null,
   "metadata": {},
   "outputs": [],
   "source": [
    "# It is easy to convert quantities to different units as required.\n",
    "\n",
    "snap['x'].to('au')"
   ]
  },
  {
   "cell_type": "markdown",
   "metadata": {},
   "source": [
    "# Profiles"
   ]
  },
  {
   "cell_type": "code",
   "execution_count": null,
   "metadata": {},
   "outputs": [],
   "source": [
    "# Generating a profile is a convenient method to reduce the dimensionality of the full data set. \n",
    "# For example, we may want to see how the surface density and aspect ratio of the disc vary with radius.\n",
    "\n",
    "# To do this we use the Profile class in the analysis module.\n",
    "\n",
    "snap = plonk.load_snap(filename)\n",
    "snap.add_quantities('disc')\n",
    "prof = plonk.load_profile(snap, cmin='10 au', cmax='200 au')\n",
    "prof"
   ]
  },
  {
   "cell_type": "code",
   "execution_count": null,
   "metadata": {},
   "outputs": [],
   "source": [
    "# To see what profiles are loaded and \n",
    "# what are available use the loaded_profiles() and available_profiles() methods.\n",
    "\n",
    "prof.loaded_profiles()"
   ]
  },
  {
   "cell_type": "code",
   "execution_count": null,
   "metadata": {},
   "outputs": [],
   "source": [
    "prof.available_profiles()"
   ]
  },
  {
   "cell_type": "code",
   "execution_count": null,
   "metadata": {},
   "outputs": [],
   "source": [
    "# To load a profile, simply call it.\n",
    "\n",
    "prof['density']"
   ]
  },
  {
   "cell_type": "code",
   "execution_count": null,
   "metadata": {},
   "outputs": [],
   "source": [
    "# You can convert the data in the Profile object to a pandas DataFrame with the to_dataframe() method. \n",
    "# This takes all loaded profiles and puts them into the DataFrame with units indicated in brackets.\n",
    "\n",
    "profiles = [\n",
    "    'density',\n",
    "    'radius',\n",
    "]\n",
    "df = prof.to_dataframe(columns=profiles)\n",
    "df"
   ]
  },
  {
   "cell_type": "code",
   "execution_count": null,
   "metadata": {},
   "outputs": [],
   "source": [
    "# We can also plot the profiles.\n",
    "\n",
    "prof.set_units(position='au', radius='au', density='kg/m^3')\n",
    "\n",
    "fig, axs = plt.subplots(ncols=2, figsize=(12, 5))\n",
    "\n",
    "prof.plot('radius', 'density', ax=axs[0])\n",
    "\n",
    "prof.plot('radius', 'scale_height', ax=axs[1])\n"
   ]
  },
  {
   "cell_type": "code",
   "execution_count": null,
   "metadata": {},
   "outputs": [],
   "source": [
    "# now form au to pc\n",
    "\n",
    "snap = plonk.load_snap(filename)\n",
    "snap['x'].to('pc')\n"
   ]
  },
  {
   "cell_type": "markdown",
   "metadata": {},
   "source": [
    "# plonk.animate"
   ]
  },
  {
   "cell_type": "code",
   "execution_count": null,
   "metadata": {},
   "outputs": [],
   "source": [
    "# plonk.animate\n",
    "\n",
    "# for example: make an image animation of projected density \n",
    "\n",
    "FilePath = !ls ./disc_000*.h5\n",
    "for Filelist in FilePath:\n",
    "    print(Filelist)\n",
    "    snaps = plonk.load_snap(Filelist)\n",
    "    print(snaps)\n",
    "units = {\n",
    "        'position': 'au',\n",
    "        'density': 'g/cm^3',\n",
    "        'projection': 'cm'\n",
    "        }\n",
    "plonk.animate(\n",
    "        filename='animation.mp4',\n",
    "        snaps=snaps,\n",
    "        quantity='density',\n",
    "        units=units,\n",
    "        save_kwargs={'fps': 10, 'dpi': 300}\n",
    "    )    \n",
    "             \n",
    "    "
   ]
  },
  {
   "cell_type": "code",
   "execution_count": null,
   "metadata": {},
   "outputs": [],
   "source": [
    "units={'position': 'au', 'surface_density': 'g/cm^2'}\n",
    "plonk.animate(\n",
    "    filename='animation.mp4',\n",
    "    profiles=profiles,\n",
    "    x='radius',\n",
    "    y='surface_density',\n",
    "    units=units,\n",
    "    adaptive_limits=False,\n",
    "    save_kwargs={'fps': 10, 'dpi': 300},\n",
    ")"
   ]
  },
  {
   "cell_type": "code",
   "execution_count": null,
   "metadata": {},
   "outputs": [],
   "source": []
  },
  {
   "cell_type": "code",
   "execution_count": null,
   "metadata": {},
   "outputs": [],
   "source": []
  }
 ],
 "metadata": {
  "kernelspec": {
   "display_name": "Python 3",
   "language": "python",
   "name": "python3"
  },
  "language_info": {
   "codemirror_mode": {
    "name": "ipython",
    "version": 3
   },
   "file_extension": ".py",
   "mimetype": "text/x-python",
   "name": "python",
   "nbconvert_exporter": "python",
   "pygments_lexer": "ipython3",
   "version": "3.7.4"
  }
 },
 "nbformat": 4,
 "nbformat_minor": 4
}
