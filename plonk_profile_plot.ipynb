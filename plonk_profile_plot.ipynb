{
 "cells": [
  {
   "cell_type": "code",
   "execution_count": null,
   "metadata": {},
   "outputs": [],
   "source": [
    "import plonk\n",
    "import matplotlib.pyplot as plt\n",
    "import numpy as np"
   ]
  },
  {
   "cell_type": "code",
   "execution_count": null,
   "metadata": {},
   "outputs": [],
   "source": [
    "filename = 'disc_00030.h5'\n",
    "snap = plonk.load_snap(filename)"
   ]
  },
  {
   "cell_type": "code",
   "execution_count": null,
   "metadata": {},
   "outputs": [],
   "source": [
    "snap = plonk.load_snap(filename)\n",
    "snap.add_quantities('disc')\n",
    "prof = plonk.load_profile(snap, cmin='10 au', cmax='200 au')\n",
    "prof"
   ]
  },
  {
   "cell_type": "code",
   "execution_count": null,
   "metadata": {},
   "outputs": [],
   "source": [
    "prof.loaded_profiles()"
   ]
  },
  {
   "cell_type": "code",
   "execution_count": null,
   "metadata": {},
   "outputs": [],
   "source": [
    "prof.available_profiles()"
   ]
  },
  {
   "cell_type": "code",
   "execution_count": null,
   "metadata": {},
   "outputs": [],
   "source": [
    "prof['density']"
   ]
  },
  {
   "cell_type": "code",
   "execution_count": null,
   "metadata": {},
   "outputs": [],
   "source": [
    "prof['timestep']"
   ]
  },
  {
   "cell_type": "code",
   "execution_count": null,
   "metadata": {},
   "outputs": [],
   "source": [
    "profiles = [\n",
    "    'density',\n",
    "    'radius',\n",
    "    'timestep'\n",
    "]\n",
    "df = prof.to_dataframe(columns=profiles)\n",
    "df"
   ]
  },
  {
   "cell_type": "code",
   "execution_count": null,
   "metadata": {},
   "outputs": [],
   "source": [
    "snap = plonk.load_snap(filename)\n",
    "snap['timestep'].to('Myr')"
   ]
  },
  {
   "cell_type": "code",
   "execution_count": null,
   "metadata": {},
   "outputs": [],
   "source": [
    "snap = plonk.load_snap(filename)\n",
    "snap['x'].to('pc')"
   ]
  },
  {
   "cell_type": "code",
   "execution_count": null,
   "metadata": {},
   "outputs": [],
   "source": [
    "snap = plonk.load_snap(filename)\n",
    "snap['x'].to('pc')"
   ]
  },
  {
   "cell_type": "code",
   "execution_count": null,
   "metadata": {},
   "outputs": [],
   "source": [
    "prof.set_units(position='pc', radius='pc', timestep='Myr', density='kg/m^3', surface_density='kg/m^2')\n",
    "\n",
    "fig, axs = plt.subplots(ncols=2, figsize=(12, 5))\n",
    "\n",
    "prof.plot('radius', 'density', ax=axs[0])\n",
    "\n",
    "\n",
    "\n",
    "prof.plot('timestep', 'density', ax=axs[1])\n"
   ]
  },
  {
   "cell_type": "code",
   "execution_count": null,
   "metadata": {},
   "outputs": [],
   "source": [
    "prof.set_units(position='pc', radius='pc', timestep='Myr', density='kg/m^3', surface_density='kg/m^2')\n",
    "\n",
    "fig, axs = plt.subplots(ncols=2, figsize=(12, 5))\n",
    "\n",
    "prof.plot('radius', 'density', 'timestep', ax=axs[0])\n",
    "\n",
    "prof.plot('radius', 'surface_density', 'timestep', ax=axs[1])\n"
   ]
  },
  {
   "cell_type": "code",
   "execution_count": null,
   "metadata": {},
   "outputs": [],
   "source": [
    "# Load simulation\n",
    "sim = plonk.load_simulation(prefix='disc')\n",
    "\n",
    "# Generate density profiles for every 7th snap\n",
    "stride = 7\n",
    "times = sim.properties['time'].to('yr')[::stride]\n",
    "profiles = list()\n",
    "for snap in sim.snaps[::stride]:\n",
    "    profile = plonk.load_profile(snap, cmin='10 au', cmax='150 au', n_bins=50)\n",
    "    profiles.append(profile)\n",
    "\n",
    "# Plot profiles\n",
    "fig, ax = plt.subplots()\n",
    "units = {'position': 'pc', 'density': 'g/cm^3'}\n",
    "for time, profile in zip(times, profiles):\n",
    "    label = f'{time.m:.0f}'\n",
    "    profile.plot(\n",
    "        'radius', 'density', units=units, label=label, ax=ax\n",
    "    )\n",
    "ax.set_ylabel('Density [g/cm${}^3$]')\n",
    "ax.legend(title='Time [year]', loc='best')"
   ]
  },
  {
   "cell_type": "code",
   "execution_count": null,
   "metadata": {},
   "outputs": [],
   "source": [
    "sinkFilePath = !ls sinkFilePath/\n",
    "\n",
    "for sinklist in sinkFilePath:\n",
    "    print(sinklist)\n",
    "    profiles = list()\n",
    "    snap = plonk.load_snap(sinklist)\n",
    "    profile = plonk.load_profile(snap, cmin='10 au', cmax='150 au', n_bins=50)\n",
    "    profiles.append(profile)\n",
    "      "
   ]
  },
  {
   "cell_type": "code",
   "execution_count": null,
   "metadata": {},
   "outputs": [],
   "source": [
    "# Load simulation\n",
    "sim = plonk.load_simulation(prefix='disc')\n",
    "\n",
    "sinkFilePath = !ls sinkFilePath/\n",
    "\n",
    "times = sim.properties['time'].to('yr')\n",
    "\n",
    "\n",
    "for snap in sim.snaps[sinkFilePath]:\n",
    "    print(sinklist)\n",
    "    profiles = list()\n",
    "    snap = plonk.load_snap(sinklist)\n",
    "    profile = plonk.load_profile(snap, cmin='10 au', cmax='150 au', n_bins=50)\n",
    "    profiles.append(profile)\n",
    "    print(profile)\n",
    "        \n",
    "print(profile)\n",
    "\n",
    "# Plot profiles\n",
    "fig, ax = plt.subplots()\n",
    "units = {'position': 'pc', 'density': 'g/cm^3'}\n",
    "for time, profile in zip(times, profiles):\n",
    "    label = f'{time.m:.0f}'\n",
    "    profile.plot(\n",
    "        'radius', 'density', units=units, label=label, ax=ax\n",
    "    )\n",
    "ax.set_ylabel('Density [g/cm${}^3$]')\n",
    "ax.legend(title='Time [yr]', loc='best')"
   ]
  },
  {
   "cell_type": "code",
   "execution_count": null,
   "metadata": {},
   "outputs": [],
   "source": [
    "sim = plonk.load_simulation(prefix='disc')\n",
    "\n",
    "sinkFilePath = !ls sinkFilePath/\n",
    "\n",
    "times = sim.properties['time'].to('yr')\n",
    "\n",
    "\n",
    "for snap in sim.snaps[sinkFilePath]:\n",
    "    print(snap)\n",
    "       "
   ]
  },
  {
   "cell_type": "code",
   "execution_count": null,
   "metadata": {},
   "outputs": [],
   "source": []
  }
 ],
 "metadata": {
  "kernelspec": {
   "display_name": "Python 3",
   "language": "python",
   "name": "python3"
  },
  "language_info": {
   "codemirror_mode": {
    "name": "ipython",
    "version": 3
   },
   "file_extension": ".py",
   "mimetype": "text/x-python",
   "name": "python",
   "nbconvert_exporter": "python",
   "pygments_lexer": "ipython3",
   "version": "3.7.4"
  }
 },
 "nbformat": 4,
 "nbformat_minor": 4
}
